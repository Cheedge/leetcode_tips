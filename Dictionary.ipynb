{
 "cells": [
  {
   "cell_type": "markdown",
   "id": "cellular-horse",
   "metadata": {},
   "source": [
    "## zip: in/output both iterabel"
   ]
  },
  {
   "cell_type": "code",
   "execution_count": 1,
   "id": "focal-rental",
   "metadata": {},
   "outputs": [
    {
     "name": "stdout",
     "output_type": "stream",
     "text": [
      "{'b': 'b', 'a': 'a'}\n",
      "{'b': 'a', 'a': 'b'}\n",
      "{'b': 1, 'a': 1}\n",
      "['a', 'b', 'a', 'a', 'a', 'a', 'b']\n",
      "{98: 98, 97: 97} {97: 97, 98: 98}\n",
      "{'a': 'a', 'b': 'b'}\n"
     ]
    },
    {
     "data": {
      "text/plain": [
       "'b'"
      ]
     },
     "execution_count": 1,
     "metadata": {},
     "output_type": "execute_result"
    }
   ],
   "source": [
    "s1 = 'babbbba'\n",
    "s2 = 'abaaaba'\n",
    "a = {i:j for i, j in zip(s1, s2)}\n",
    "print(a)\n",
    "\n",
    "b = {i:j for i, j in zip(list(dict.fromkeys(s1)), list(dict.fromkeys(s2)))}\n",
    "print(b)\n",
    "b0 = dict.fromkeys(s1,1)\n",
    "print(b0)\n",
    "list(b0)\n",
    "\n",
    "c = list(map(b.get, s1))\n",
    "print(c)\n",
    "\n",
    "d1 = str.maketrans(s1, s2)\n",
    "d2 = str.maketrans(s2, s1)\n",
    "print(d1, d2)\n",
    "d0 = {chr(i):chr(j) for i, j in d2.items()}\n",
    "print(d0)\n",
    "d2.setdefault('a','b')"
   ]
  },
  {
   "cell_type": "markdown",
   "id": "hindu-means",
   "metadata": {},
   "source": [
    "## setdefault"
   ]
  },
  {
   "cell_type": "code",
   "execution_count": 2,
   "id": "intense-hotel",
   "metadata": {},
   "outputs": [
    {
     "name": "stdout",
     "output_type": "stream",
     "text": [
      "{97: 97, 98: 98, 'a': 'b'}\n",
      "{97: 97, 98: 98, 'a': 'b', 1: 2}\n",
      "{97: 97, 98: 98, 'a': 'b', 1: 2, 'b': None}\n",
      "where p:{'b': 'a', 'a': 'b'} is same as b:{'b': 'a', 'a': 'b'}\n",
      " descriptor setdefault for dict objects doesnt apply to a str object\n"
     ]
    }
   ],
   "source": [
    "d2.setdefault('a', 'b')\n",
    "print(d2)\n",
    "d2.setdefault(1,2)\n",
    "print(d2)\n",
    "d2.setdefault('b')\n",
    "print(d2)\n",
    "p = dict()\n",
    "for i, j in zip(s1, s2):\n",
    "    p.setdefault(i, j)\n",
    "print(f'where p:{p} is same as b:{b}')# same as b\n",
    "try:\n",
    "    dict.setdefault('a')\n",
    "except:\n",
    "    print(f' descriptor setdefault for dict objects doesnt apply to a str object')"
   ]
  },
  {
   "cell_type": "markdown",
   "id": "missing-uniform",
   "metadata": {},
   "source": [
    "## Counter"
   ]
  },
  {
   "cell_type": "code",
   "execution_count": 9,
   "id": "fitting-playback",
   "metadata": {},
   "outputs": [
    {
     "name": "stdout",
     "output_type": "stream",
     "text": [
      "Counter({'b': 5, 'a': 2})\n",
      "5 5\n",
      "Counter({'b': 7, 'a': 7})\n",
      "Counter({'b': 3})\n",
      "Counter({'b': 2, 'a': 2})\n",
      "Counter({'b': 5, 'a': 5})\n",
      "None\n"
     ]
    },
    {
     "data": {
      "text/plain": [
       "[('b', 3)]"
      ]
     },
     "execution_count": 9,
     "metadata": {},
     "output_type": "execute_result"
    }
   ],
   "source": [
    "from collections import Counter\n",
    "e0 = Counter(s1)\n",
    "print(e0)\n",
    "e1 = s1.count('b')\n",
    "e2 = list(s1).count('b')\n",
    "print(e1, e2)\n",
    "e00 = Counter(s2)\n",
    "print(e0+e00)\n",
    "print(e0-e00)\n",
    "print(e0&e00)\n",
    "print(e0|e00)\n",
    "print(e0.subtract(e00))\n",
    "e0.most_common(1)\n"
   ]
  },
  {
   "cell_type": "markdown",
   "id": "graduate-samba",
   "metadata": {},
   "source": [
    "## heapq"
   ]
  },
  {
   "cell_type": "code",
   "execution_count": 10,
   "id": "favorite-lender",
   "metadata": {},
   "outputs": [
    {
     "data": {
      "text/plain": [
       "['b', 'a']"
      ]
     },
     "execution_count": 10,
     "metadata": {},
     "output_type": "execute_result"
    }
   ],
   "source": [
    "import heapq\n",
    "f0 = Counter(s1)\n",
    "heapq.nlargest(3, f0, key=f0.get)"
   ]
  },
  {
   "cell_type": "markdown",
   "id": "hawaiian-capacity",
   "metadata": {},
   "source": [
    "## key = dict.get\n",
    "**sort of dict by val**"
   ]
  },
  {
   "cell_type": "code",
   "execution_count": 12,
   "id": "educational-medicare",
   "metadata": {},
   "outputs": [
    {
     "data": {
      "text/plain": [
       "['I', 'G', 'F', 'J', 'K', 'L', 'M', 'N']"
      ]
     },
     "execution_count": 12,
     "metadata": {},
     "output_type": "execute_result"
    }
   ],
   "source": [
    "g = {'F': 3, 'G': 2, 'I': 1, 'J': 3, 'K': 4, 'L': 5, 'M': 6, 'N': 6}\n",
    "heapq.nlargest(2, g, key=g.get)\n",
    "sorted(g, key=g.get)"
   ]
  },
  {
   "cell_type": "markdown",
   "id": "adult-founder",
   "metadata": {},
   "source": [
    "## index"
   ]
  },
  {
   "cell_type": "code",
   "execution_count": 28,
   "id": "green-angel",
   "metadata": {},
   "outputs": [
    {
     "name": "stdout",
     "output_type": "stream",
     "text": [
      "1\n",
      "1\n"
     ]
    }
   ],
   "source": [
    "print(s1.index('a'))\n",
    "print(list(s1).index('a'))"
   ]
  },
  {
   "cell_type": "markdown",
   "id": "emerging-antigua",
   "metadata": {},
   "source": [
    "## list, set and dict cannot used as key\n",
    "**tuple, int, str, func can**\n",
    "\n",
    "`dict({(a, b): 1})`"
   ]
  },
  {
   "cell_type": "markdown",
   "id": "great-qualification",
   "metadata": {},
   "source": [
    "## flatten\n",
    "**list cannot flatten like in numpy.array done**\n",
    "\n",
    "use:\n",
    "\n",
    "`sum(nums, [])`\n",
    "\n",
    "only in numpy.array\n",
    "\n",
    "`nums.flatten()` or `nms.flatten().tolist()`\n",
    "\n",
    "\n",
    "## N-d list slice\n",
    "**N-d list cannot use `nums[:][0]` = `nums[0]` like in numpy.array done**\n",
    "\n",
    "use:\n",
    "\n",
    "`[nums[i][0] for i in range(N)]`\n",
    "\n",
    "only in numpy.array\n",
    "\n",
    "`nums[:, 0]`\n"
   ]
  },
  {
   "cell_type": "markdown",
   "id": "advisory-washington",
   "metadata": {},
   "source": [
    "## defaultdict\n",
    "**faster and simpler than `setdefault`**\n",
    "\n",
    "`defaultdict(list/set/)`"
   ]
  },
  {
   "cell_type": "code",
   "execution_count": 2,
   "id": "mexican-wheat",
   "metadata": {},
   "outputs": [
    {
     "data": {
      "text/plain": [
       "[('blue', [2, 4]), ('red', [1]), ('yellow', [1, 3])]"
      ]
     },
     "execution_count": 2,
     "metadata": {},
     "output_type": "execute_result"
    }
   ],
   "source": [
    "from collections import defaultdict\n",
    "s = [('yellow', 1), ('blue', 2), ('yellow', 3), ('blue', 4), ('red', 1)]\n",
    "d = defaultdict(list)\n",
    "for k, v in s:\n",
    "    d[k].append(v)\n",
    "\n",
    "sorted(d.items())"
   ]
  }
 ],
 "metadata": {
  "kernelspec": {
   "display_name": "Python 3",
   "language": "python",
   "name": "python3"
  },
  "language_info": {
   "codemirror_mode": {
    "name": "ipython",
    "version": 3
   },
   "file_extension": ".py",
   "mimetype": "text/x-python",
   "name": "python",
   "nbconvert_exporter": "python",
   "pygments_lexer": "ipython3",
   "version": "3.8.5"
  }
 },
 "nbformat": 4,
 "nbformat_minor": 5
}
