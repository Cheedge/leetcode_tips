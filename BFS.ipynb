{
 "cells": [
  {
   "cell_type": "markdown",
   "id": "white-lincoln",
   "metadata": {},
   "source": [
    "# BFS\n",
    "\n",
    "1. `que = deque()`\n",
    "\n",
    "2. `visited = set()` or `level = {s:0}`\n",
    "\n",
    "3. `while que:`\n",
    "\n",
    "4. `curr = que.popleft()`\n",
    "\n",
    "5. `for neib in G.adj[curr]`\n",
    "\n",
    "6. `if in visited:`\n",
    "\n",
    "`visited.add()`\n",
    "`que.append()`"
   ]
  },
  {
   "cell_type": "code",
   "execution_count": null,
   "id": "rational-richards",
   "metadata": {},
   "outputs": [],
   "source": [
    "from collections import deque\n",
    "\n",
    "class BFSResult:\n",
    "        def __init__(self):\n",
    "                self.level = {}\n",
    "                self.parent = {}\n",
    "\n",
    "class Graph:\n",
    "        def __init__(self):\n",
    "                self.adj = {}\n",
    "\n",
    "        def add_edge(self, u, v):\n",
    "                if self.adj[u] is None:\n",
    "                        self.adj[u] = []\n",
    "                self.adj[u].append(v)\n",
    "\n",
    "def bfs(g, s):\n",
    "        '''\n",
    "        Queue-based implementation of BFS.\n",
    "\n",
    "        Args:\n",
    "                g: a graph with adjacency list adj such that g.adj[u] is a list of u’s neighbors.\n",
    "                s: source.\n",
    "        '''\n",
    "        r = BFSResult()\n",
    "        r.parent = {s: None}\n",
    "        r.level = {s: 0}\n",
    "\n",
    "        queue = deque()\n",
    "        queue.append(s)\n",
    "\n",
    "        while queue:\n",
    "                u = queue.popleft()\n",
    "                for n in g.adj[u]:\n",
    "                        if n not in level:\n",
    "                                r.parent[n] = u\n",
    "                                r.level[n] = r.level[u] + 1\n",
    "                                queue.append(n)\n",
    "        return r\n"
   ]
  },
  {
   "cell_type": "markdown",
   "id": "fourth-summer",
   "metadata": {},
   "source": [
    "above, `level` include `visited` + `distance`; \n",
    "\n",
    "And the reason for construct `parent` when there alreay have `adj` is:\n",
    "\n",
    "**`parent` is to construct the BFTree;\n",
    "while `adj` is the orignal concept of Graph, what we need to do is to construct their tree relationship**\n",
    "\n",
    "Therefore,\n",
    "\n",
    "the procedual of BFS as:\n",
    "\n",
    "1. `que = deque()` # for loop\n",
    "2. `level={s: 0}` or `visited=set()` or `grid[i][j]=1` # if need distance use level, else use a visited set enough or just set the value of that grid\n",
    "3. `parent={s: None}` # if and only if need show tree relaitonship\n",
    "4. `while que` # loop over que\n",
    "5. ` curr = que.popleft()` # FIFO\n",
    "6. `for neib in G.adj[curr]` or `for neib in` $\\uparrow\\downarrow\\leftarrow\\rightarrow$ # loop over all adjacency / neighbours\n",
    "7. `if neib not in level/visited` or `if neib != 1` # visited conditions\n",
    "8. `level[neib]=level[curr]+1` `visited.add(neib)` `grid=1` # add into visited\n",
    "9. `parent[neib] = curr`\n",
    "10. `que.append(neib)` # append to que for loop"
   ]
  },
  {
   "cell_type": "code",
   "execution_count": null,
   "id": "normal-testament",
   "metadata": {},
   "outputs": [],
   "source": []
  }
 ],
 "metadata": {
  "kernelspec": {
   "display_name": "Python 3",
   "language": "python",
   "name": "python3"
  },
  "language_info": {
   "codemirror_mode": {
    "name": "ipython",
    "version": 3
   },
   "file_extension": ".py",
   "mimetype": "text/x-python",
   "name": "python",
   "nbconvert_exporter": "python",
   "pygments_lexer": "ipython3",
   "version": "3.8.10"
  }
 },
 "nbformat": 4,
 "nbformat_minor": 5
}
