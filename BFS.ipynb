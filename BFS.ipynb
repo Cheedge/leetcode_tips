{
 "cells": [
  {
   "cell_type": "markdown",
   "id": "white-lincoln",
   "metadata": {},
   "source": [
    "# BFS\n",
    "\n",
    "1, `que = deque()`\n",
    "\n",
    "2, `visited = set()`\n",
    "\n",
    "3, `while que:`\n",
    "\n",
    "4, `curr = que.popleft()`\n",
    "\n",
    "5, `if in visited:\n",
    "        visited.add()\n",
    "        que.append()`"
   ]
  },
  {
   "cell_type": "code",
   "execution_count": null,
   "id": "figured-forum",
   "metadata": {},
   "outputs": [],
   "source": []
  }
 ],
 "metadata": {
  "kernelspec": {
   "display_name": "Python 3",
   "language": "python",
   "name": "python3"
  },
  "language_info": {
   "codemirror_mode": {
    "name": "ipython",
    "version": 3
   },
   "file_extension": ".py",
   "mimetype": "text/x-python",
   "name": "python",
   "nbconvert_exporter": "python",
   "pygments_lexer": "ipython3",
   "version": "3.8.10"
  }
 },
 "nbformat": 4,
 "nbformat_minor": 5
}
