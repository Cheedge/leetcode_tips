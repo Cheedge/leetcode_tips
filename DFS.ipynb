{
 "cells": [
  {
   "cell_type": "markdown",
   "id": "arctic-conversion",
   "metadata": {},
   "source": [
    "# DFS\n",
    "## basic structure\n",
    "\n",
    "1. `dfs(graph):`\n",
    "\n",
    "     `parent=dict()` # keep visited\n",
    "     \n",
    "     `for vertex in G.vertexs:` # travese all vetexs\n",
    "     \n",
    "     `if vertex not in parent:` # check visited (with other condition)\n",
    "         \n",
    "     `dfs_visit(graph, vertex, None)` # call dfs visit\n",
    "     \n",
    "2. `dfs_visit(graph, vertex, pi=None):`\n",
    "\n",
    "    `parent[vertex] = pi` # set vertex's parent as pi, 1st time is None\n",
    "    \n",
    "    `for neib in G.neighbor[vertex]:` # iterate all neighbors\n",
    "    \n",
    "    `if neib not in parent:` # check visited (with other condition)\n",
    "        \n",
    "    `dfs_visit(graph, neib, vertex)` #recursive solved. set parent[n]=v"
   ]
  },
  {
   "cell_type": "code",
   "execution_count": 2,
   "id": "crucial-campaign",
   "metadata": {},
   "outputs": [],
   "source": [
    "class DFSResult:\n",
    "    def __init__(self):\n",
    "        self.parent = {}\n",
    "        self.start_time = {}\n",
    "        self.finish_time = {}\n",
    "        self.edges = {} # Edge classification for directed graph.\n",
    "        self.order = []\n",
    "        self.t = 0\n",
    "\n",
    "def dfs(g):\n",
    "    results = DFSResult()\n",
    "    for vertex in g.itervertices():\n",
    "        if vertex not in results.parent:\n",
    "            dfs_visit(g, vertex, results)\n",
    "    return results\n",
    "\n",
    "def dfs_visit(g, v, results, parent = None):\n",
    "    results.parent[v] = parent\n",
    "    results.t += 1\n",
    "    results.start_time[v] = results.t\n",
    "    if parent:\n",
    "        results.edges[(parent, v)] = 'tree'\n",
    "\n",
    "    for n in g.neighbors(v):\n",
    "        if n not in results.parent: # n is not visited.\n",
    "            dfs_visit(g, n, results, v)\n",
    "        elif n not in results.finish_time:\n",
    "            results.edges[(v, n)] = 'back'\n",
    "        elif results.start_time[v] < results.start_time[n]:\n",
    "            results.edges[(v, n)] = 'forward'\n",
    "        else:\n",
    "            results.edges[(v, n)] = 'cross'\n",
    "\n",
    "    results.t += 1\n",
    "    results.finish_time[v] = results.t\n",
    "    results.order.append(v)\n",
    "\n",
    "def topological_sort(g):\n",
    "    dfs_result = dfs(g)\n",
    "    dfs_result.order.reverse()\n",
    "    return dfs_result.order\n"
   ]
  }
 ],
 "metadata": {
  "kernelspec": {
   "display_name": "Python 3",
   "language": "python",
   "name": "python3"
  },
  "language_info": {
   "codemirror_mode": {
    "name": "ipython",
    "version": 3
   },
   "file_extension": ".py",
   "mimetype": "text/x-python",
   "name": "python",
   "nbconvert_exporter": "python",
   "pygments_lexer": "ipython3",
   "version": "3.8.10"
  }
 },
 "nbformat": 4,
 "nbformat_minor": 5
}
