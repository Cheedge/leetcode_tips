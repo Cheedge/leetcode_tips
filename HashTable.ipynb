{
 "cells": [
  {
   "cell_type": "markdown",
   "id": "oriental-thong",
   "metadata": {},
   "source": [
    "# Hash Table Problem\n",
    "**need both index and value**\n",
    "# 1, one list(string)\n",
    "+ use dictionary for recording during loop.\n",
    "\n",
    "`rec = dict()`\n",
    "+ loop list(string)\n",
    "\n",
    "`for i in range(len(nums))` or `while string`\n",
    "+ comparing while recording\n",
    "\n",
    "`if condition: rec.update()`\n",
    "\n",
    "# 2, two lists(strings)\n",
    "+ convert one or both to dict (refer to repeat or duplication use `collections.Counter`\n",
    "\n",
    "`nums1_dic = dict()` or `nums2_count = Counter(nums2)`\n",
    "+ loop over one list(string)\n",
    "\n",
    "`for i in range()` or `while string`\n",
    "+ check `if in`\n",
    "\n",
    "`if nums1[i] in nums2_dic:`"
   ]
  },
  {
   "cell_type": "markdown",
   "id": "stretch-petroleum",
   "metadata": {},
   "source": [
    "### one list(string) examples\n",
    "+ First Unique Character in a String\n",
    "+ Contains Duplicate II\n",
    "\n",
    "### two lists(strings) examples\n",
    "+ Two Sum\n",
    "+ Isomorphic Strings\n",
    "+ Minimum Index Sum of Two Lists\n",
    "+ Intersection of Two Arrays II"
   ]
  }
 ],
 "metadata": {
  "kernelspec": {
   "display_name": "Python 3",
   "language": "python",
   "name": "python3"
  },
  "language_info": {
   "codemirror_mode": {
    "name": "ipython",
    "version": 3
   },
   "file_extension": ".py",
   "mimetype": "text/x-python",
   "name": "python",
   "nbconvert_exporter": "python",
   "pygments_lexer": "ipython3",
   "version": "3.8.5"
  }
 },
 "nbformat": 4,
 "nbformat_minor": 5
}
