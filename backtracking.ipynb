{
 "cells": [
  {
   "cell_type": "markdown",
   "id": "abstract-wallpaper",
   "metadata": {},
   "source": [
    "# backtracking"
   ]
  },
  {
   "cell_type": "markdown",
   "id": "ranging-oregon",
   "metadata": {},
   "source": [
    "# dfs\n",
    "1. **params, return**\n",
    "2. **termination condition**\n",
    "3. **node logic (loop)**\n",
    "\n",
    "* params and return \n",
    "    + position index\n",
    "    + fuel\n",
    "    + paths or (summ if use lru_cache)\n",
    "    + return: answer(num of paths or max/min path)\n",
    "    \n",
    "* termination\n",
    "    + out of boundary\n",
    "    + return basic\n",
    "    \n",
    "* node logic\n",
    "    + backtracking\n",
    "    + record path[()]=\n",
    "    + return"
   ]
  },
  {
   "cell_type": "code",
   "execution_count": 2,
   "id": "australian-pickup",
   "metadata": {},
   "outputs": [],
   "source": [
    "def findPaths(self, m: int, n: int, maxMove: int, startRow: int, startColumn: int) -> int:\n",
    "    # dfs\n",
    "    paths = dict()# {(i, j, fuel)} # of ways from (i, j) with fuel to move outside.\n",
    "    def dfs(i, j, fuel, paths)-> int:\n",
    "        if ((i>=m) or (i<0) or (j>=n) or (j<0)):\n",
    "            return 1\n",
    "        elif ((i<m) and (i>=0) and (j<n) and (j>=0)) and (fuel<=0):\n",
    "            return 0\n",
    "        count = 0\n",
    "        for (p, q) in (i+1, j), (i-1, j), (i, j-1), (i, j+1):\n",
    "            if (p, q, fuel-1) not in paths:\n",
    "                count += dfs(p, q, fuel-1, paths)\n",
    "            else:\n",
    "                count += paths[(p, q, fuel-1)]\n",
    "            # paths[(p, q, fuel-1)] = count\n",
    "        paths[(i, j, fuel)] = count\n",
    "        # print(paths)\n",
    "        return count\n",
    "\n",
    "    return dfs(startRow, startColumn, maxMove, paths)%(10**9+7)"
   ]
  },
  {
   "cell_type": "markdown",
   "id": "french-destination",
   "metadata": {},
   "source": []
  },
  {
   "cell_type": "code",
   "execution_count": 3,
   "id": "primary-background",
   "metadata": {},
   "outputs": [],
   "source": [
    "def findPaths(self, m: int, n: int, maxMove: int, startRow: int, startColumn: int) -> int:\n",
    "    # dp\n",
    "    dp = dict()# {(i, j, fuel)} # of ways from (i, j) with fuel to move outside.\n",
    "    for i in range(m):\n",
    "        for j in range(n):\n",
    "            dp[(i, j, 0)] = 0\n",
    "            if (i==0 or i==m-1 or j==0 or j==n-1):\n",
    "                dp[(i, j, 1)] = 1\n",
    "            for f in range(1, maxMove+1):\n",
    "                if (max((m-i), (i+1), (j+1), (n-j))>f):\n",
    "                    dp[(i, j, f)] = 0\n",
    "    for f in range(1, maxMove+1):\n",
    "        for i in range(m):\n",
    "            for j in range(n):\n",
    "                up = dp[(i-1, j, f-1)] if (i>0) else 1\n",
    "                down = dp[(i+1, j, f-1)] if (i<m-1) else 1\n",
    "                left = dp[(i, j-1, f-1)] if (j>0) else 1\n",
    "                right = dp[(i, j+1, f-1)] if (j<n-1) else 1\n",
    "                dp[(i, j, f)] = up + down + left + right\n",
    "    # print(dp)\n",
    "    return dp[(startRow, startColumn, maxMove)]%(10**9+7)"
   ]
  }
 ],
 "metadata": {
  "kernelspec": {
   "display_name": "Python 3",
   "language": "python",
   "name": "python3"
  },
  "language_info": {
   "codemirror_mode": {
    "name": "ipython",
    "version": 3
   },
   "file_extension": ".py",
   "mimetype": "text/x-python",
   "name": "python",
   "nbconvert_exporter": "python",
   "pygments_lexer": "ipython3",
   "version": "3.8.10"
  }
 },
 "nbformat": 4,
 "nbformat_minor": 5
}
