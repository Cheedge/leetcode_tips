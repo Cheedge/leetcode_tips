{
 "cells": [
  {
   "cell_type": "markdown",
   "id": "abstract-wallpaper",
   "metadata": {},
   "source": [
    "# backtracking"
   ]
  },
  {
   "cell_type": "code",
   "execution_count": null,
   "id": "australian-pickup",
   "metadata": {},
   "outputs": [],
   "source": [
    "        # # dfs\n",
    "        # paths = dict()# {(i, j, fuel)} # of ways from (i, j) with fuel to move outside.\n",
    "        # def dfs(i, j, fuel, paths)-> int:\n",
    "        #     if ((i>=m) or (i<0) or (j>=n) or (j<0)):\n",
    "        #         return 1\n",
    "        #     elif ((i<m) and (i>=0) and (j<n) and (j>=0)) and (fuel<=0):\n",
    "        #         return 0\n",
    "        #     count = 0\n",
    "        #     for (p, q) in (i+1, j), (i-1, j), (i, j-1), (i, j+1):\n",
    "        #         if (p, q, fuel-1) not in paths:\n",
    "        #             count += dfs(p, q, fuel-1, paths)\n",
    "        #         else:\n",
    "        #             count += paths[(p, q, fuel-1)]\n",
    "        #         # paths[(p, q, fuel-1)] = count\n",
    "        #     paths[(i, j, fuel)] = count\n",
    "        #     # print(paths)\n",
    "        #     return count\n",
    "\n",
    "        # return dfs(startRow, startColumn, maxMove, paths)%(10**9+7)"
   ]
  }
 ],
 "metadata": {
  "kernelspec": {
   "display_name": "Python 3",
   "language": "python",
   "name": "python3"
  },
  "language_info": {
   "codemirror_mode": {
    "name": "ipython",
    "version": 3
   },
   "file_extension": ".py",
   "mimetype": "text/x-python",
   "name": "python",
   "nbconvert_exporter": "python",
   "pygments_lexer": "ipython3",
   "version": "3.8.10"
  }
 },
 "nbformat": 4,
 "nbformat_minor": 5
}
